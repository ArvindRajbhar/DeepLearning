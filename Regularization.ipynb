{
 "cells": [
  {
   "cell_type": "raw",
   "id": "f30bf6c7",
   "metadata": {},
   "source": [
    "L1 & L2 Regularization"
   ]
  },
  {
   "cell_type": "code",
   "execution_count": 6,
   "id": "e275d866",
   "metadata": {},
   "outputs": [],
   "source": [
    "from tensorflow import keras"
   ]
  },
  {
   "cell_type": "code",
   "execution_count": 14,
   "id": "e10fc27c",
   "metadata": {},
   "outputs": [],
   "source": [
    "layer= keras.layers.Dense(100, activation=\"elu\",\n",
    "                         kernel_initializer=\"he_normal\",\n",
    "                         kernel_regularizer=keras.regularizers.L2(0.01))\n",
    "\n",
    "# for elastic regularizer kernel_regularizer=keras.regularizers.l1_l2(0.1,0.01)"
   ]
  },
  {
   "cell_type": "code",
   "execution_count": 15,
   "id": "b97ee4d7",
   "metadata": {},
   "outputs": [],
   "source": [
    "model= keras.models.Sequential([\n",
    "    keras.layers.Flatten(input_shape=[28,28]),\n",
    "    keras.layers.Dense(300, activation=\"elu\", kernel_initializer=\"he_normal\", kernel_regularizer=keras.regularizers.l2(0.01)),\n",
    "    \n",
    "    keras.layers.Dense(100, activation=\"elu\", kernel_initializer=\"he_normal\", kernel_regularizer=keras.regularizers.l2(0.01)),\n",
    "    keras.layers.Dense(10, activation=\"Softmax\", kernel_regularizer= keras.regularizers.l2(0.01))\n",
    "    \n",
    "])\n",
    "\n",
    "model.compile(loss=\"sparse_categorical_crossentropy\", optimizer=\"nadam\", metrics=[\"accuracy\"])"
   ]
  },
  {
   "cell_type": "code",
   "execution_count": 16,
   "id": "979a697e",
   "metadata": {},
   "outputs": [
    {
     "name": "stdout",
     "output_type": "stream",
     "text": [
      "Model: \"sequential_4\"\n",
      "_________________________________________________________________\n",
      " Layer (type)                Output Shape              Param #   \n",
      "=================================================================\n",
      " flatten_5 (Flatten)         (None, 784)               0         \n",
      "                                                                 \n",
      " dense_15 (Dense)            (None, 300)               235500    \n",
      "                                                                 \n",
      " dense_16 (Dense)            (None, 100)               30100     \n",
      "                                                                 \n",
      " dense_17 (Dense)            (None, 10)                1010      \n",
      "                                                                 \n",
      "=================================================================\n",
      "Total params: 266610 (1.02 MB)\n",
      "Trainable params: 266610 (1.02 MB)\n",
      "Non-trainable params: 0 (0.00 Byte)\n",
      "_________________________________________________________________\n"
     ]
    }
   ],
   "source": [
    "model.summary()"
   ]
  },
  {
   "cell_type": "code",
   "execution_count": 28,
   "id": "0d39e3ae",
   "metadata": {},
   "outputs": [],
   "source": [
    "from functools import partial\n",
    "\n",
    "RegularizedDense = partial(keras.layers.Dense,\n",
    "                           activation=\"elu\",\n",
    "                           kernel_initializer=\"he_normal\", \n",
    "                           kernel_regularizer=keras.regularizers.l2(0.01))\n",
    "model1= keras.models.Sequential([\n",
    "    keras.layers.Flatten(input_shape=[28,28]),\n",
    "    RegularizedDense(300),\n",
    "    RegularizedDense(100),\n",
    "    RegularizedDense(10, activation=\"softmax\")\n",
    "])\n",
    "model1.compile(loss=\"sparse_categorical_crossentropy\", optimizer=\"nadam\", metrics=[\"accuracy\"])"
   ]
  },
  {
   "cell_type": "code",
   "execution_count": 29,
   "id": "c5b10b5a",
   "metadata": {},
   "outputs": [
    {
     "name": "stdout",
     "output_type": "stream",
     "text": [
      "Model: \"sequential_7\"\n",
      "_________________________________________________________________\n",
      " Layer (type)                Output Shape              Param #   \n",
      "=================================================================\n",
      " flatten_11 (Flatten)        (None, 784)               0         \n",
      "                                                                 \n",
      " dense_24 (Dense)            (None, 300)               235500    \n",
      "                                                                 \n",
      " dense_25 (Dense)            (None, 100)               30100     \n",
      "                                                                 \n",
      " dense_26 (Dense)            (None, 10)                1010      \n",
      "                                                                 \n",
      "=================================================================\n",
      "Total params: 266610 (1.02 MB)\n",
      "Trainable params: 266610 (1.02 MB)\n",
      "Non-trainable params: 0 (0.00 Byte)\n",
      "_________________________________________________________________\n"
     ]
    }
   ],
   "source": [
    "model1.summary()"
   ]
  },
  {
   "cell_type": "markdown",
   "id": "587023ee",
   "metadata": {},
   "source": [
    "# Max-Norm Regularization"
   ]
  },
  {
   "cell_type": "code",
   "execution_count": 32,
   "id": "00e1ea2f",
   "metadata": {},
   "outputs": [],
   "source": [
    "from functools import partial\n",
    "\n",
    "RegularizedDense = partial(keras.layers.Dense,\n",
    "                           activation=\"elu\",\n",
    "                           kernel_initializer=\"he_normal\", \n",
    "                           kernel_regularizer=keras.regularizers.l2(0.01), \n",
    "                           kernel_constraint=keras.constraints.max_norm(1.))\n",
    "\n",
    "model2= keras.models.Sequential([\n",
    "    keras.layers.Flatten(input_shape=[28,28]),\n",
    "    RegularizedDense(300),\n",
    "    RegularizedDense(100),\n",
    "    RegularizedDense(10, activation=\"softmax\")\n",
    "])\n",
    "\n",
    "model2.compile(loss=\"sparse_categorical_crossentropy\", optimizer=\"nadam\", metrics=[\"accuracy\"])\n",
    "\n",
    "# n_epochs = 2\n",
    "#history= model2.fit(X_train_scaled, y_train, epochs=n_epochs, validation_data=(X_valid_Scaled, y_valid))"
   ]
  },
  {
   "cell_type": "code",
   "execution_count": 33,
   "id": "ae38b600",
   "metadata": {},
   "outputs": [
    {
     "data": {
      "text/plain": [
       "7350745153"
      ]
     },
     "execution_count": 33,
     "metadata": {},
     "output_type": "execute_result"
    }
   ],
   "source": [
    "7350745153"
   ]
  },
  {
   "cell_type": "markdown",
   "id": "ec88a36b",
   "metadata": {},
   "source": [
    "#  Bernouli Random Variable"
   ]
  },
  {
   "cell_type": "code",
   "execution_count": 35,
   "id": "bb0521f5",
   "metadata": {},
   "outputs": [
    {
     "name": "stdout",
     "output_type": "stream",
     "text": [
      "Requirement already satisfied: tensorflow in c:\\users\\arvin\\anaconda3\\lib\\site-packages (2.15.0)\n",
      "Collecting tensorflow_probability\n",
      "  Downloading tensorflow_probability-0.23.0-py2.py3-none-any.whl.metadata (13 kB)\n",
      "Requirement already satisfied: tensorflow-intel==2.15.0 in c:\\users\\arvin\\anaconda3\\lib\\site-packages (from tensorflow) (2.15.0)\n",
      "Requirement already satisfied: absl-py>=1.0.0 in c:\\users\\arvin\\anaconda3\\lib\\site-packages (from tensorflow-intel==2.15.0->tensorflow) (2.1.0)\n",
      "Requirement already satisfied: astunparse>=1.6.0 in c:\\users\\arvin\\anaconda3\\lib\\site-packages (from tensorflow-intel==2.15.0->tensorflow) (1.6.3)\n",
      "Requirement already satisfied: flatbuffers>=23.5.26 in c:\\users\\arvin\\anaconda3\\lib\\site-packages (from tensorflow-intel==2.15.0->tensorflow) (23.5.26)\n",
      "Requirement already satisfied: gast!=0.5.0,!=0.5.1,!=0.5.2,>=0.2.1 in c:\\users\\arvin\\anaconda3\\lib\\site-packages (from tensorflow-intel==2.15.0->tensorflow) (0.5.4)\n",
      "Requirement already satisfied: google-pasta>=0.1.1 in c:\\users\\arvin\\anaconda3\\lib\\site-packages (from tensorflow-intel==2.15.0->tensorflow) (0.2.0)\n",
      "Requirement already satisfied: h5py>=2.9.0 in c:\\users\\arvin\\anaconda3\\lib\\site-packages (from tensorflow-intel==2.15.0->tensorflow) (3.7.0)\n",
      "Requirement already satisfied: libclang>=13.0.0 in c:\\users\\arvin\\anaconda3\\lib\\site-packages (from tensorflow-intel==2.15.0->tensorflow) (16.0.6)\n",
      "Requirement already satisfied: ml-dtypes~=0.2.0 in c:\\users\\arvin\\anaconda3\\lib\\site-packages (from tensorflow-intel==2.15.0->tensorflow) (0.2.0)\n",
      "Requirement already satisfied: numpy<2.0.0,>=1.23.5 in c:\\users\\arvin\\anaconda3\\lib\\site-packages (from tensorflow-intel==2.15.0->tensorflow) (1.23.5)\n",
      "Requirement already satisfied: opt-einsum>=2.3.2 in c:\\users\\arvin\\anaconda3\\lib\\site-packages (from tensorflow-intel==2.15.0->tensorflow) (3.3.0)\n",
      "Requirement already satisfied: packaging in c:\\users\\arvin\\anaconda3\\lib\\site-packages (from tensorflow-intel==2.15.0->tensorflow) (23.0)\n",
      "Requirement already satisfied: protobuf!=4.21.0,!=4.21.1,!=4.21.2,!=4.21.3,!=4.21.4,!=4.21.5,<5.0.0dev,>=3.20.3 in c:\\users\\arvin\\anaconda3\\lib\\site-packages (from tensorflow-intel==2.15.0->tensorflow) (4.21.12)\n",
      "Requirement already satisfied: setuptools in c:\\users\\arvin\\anaconda3\\lib\\site-packages (from tensorflow-intel==2.15.0->tensorflow) (68.0.0)\n",
      "Requirement already satisfied: six>=1.12.0 in c:\\users\\arvin\\anaconda3\\lib\\site-packages (from tensorflow-intel==2.15.0->tensorflow) (1.16.0)\n",
      "Requirement already satisfied: termcolor>=1.1.0 in c:\\users\\arvin\\anaconda3\\lib\\site-packages (from tensorflow-intel==2.15.0->tensorflow) (2.4.0)\n",
      "Requirement already satisfied: typing-extensions>=3.6.6 in c:\\users\\arvin\\anaconda3\\lib\\site-packages (from tensorflow-intel==2.15.0->tensorflow) (4.7.1)\n",
      "Requirement already satisfied: wrapt<1.15,>=1.11.0 in c:\\users\\arvin\\anaconda3\\lib\\site-packages (from tensorflow-intel==2.15.0->tensorflow) (1.14.1)\n",
      "Requirement already satisfied: tensorflow-io-gcs-filesystem>=0.23.1 in c:\\users\\arvin\\anaconda3\\lib\\site-packages (from tensorflow-intel==2.15.0->tensorflow) (0.31.0)\n",
      "Requirement already satisfied: grpcio<2.0,>=1.24.3 in c:\\users\\arvin\\anaconda3\\lib\\site-packages (from tensorflow-intel==2.15.0->tensorflow) (1.60.1)\n",
      "Requirement already satisfied: tensorboard<2.16,>=2.15 in c:\\users\\arvin\\anaconda3\\lib\\site-packages (from tensorflow-intel==2.15.0->tensorflow) (2.15.1)\n",
      "Requirement already satisfied: tensorflow-estimator<2.16,>=2.15.0 in c:\\users\\arvin\\anaconda3\\lib\\site-packages (from tensorflow-intel==2.15.0->tensorflow) (2.15.0)\n",
      "Requirement already satisfied: keras<2.16,>=2.15.0 in c:\\users\\arvin\\anaconda3\\lib\\site-packages (from tensorflow-intel==2.15.0->tensorflow) (2.15.0)\n",
      "Requirement already satisfied: decorator in c:\\users\\arvin\\anaconda3\\lib\\site-packages (from tensorflow_probability) (5.1.1)\n",
      "Requirement already satisfied: cloudpickle>=1.3 in c:\\users\\arvin\\anaconda3\\lib\\site-packages (from tensorflow_probability) (2.2.1)\n",
      "Collecting dm-tree (from tensorflow_probability)\n",
      "  Downloading dm_tree-0.1.8-cp311-cp311-win_amd64.whl.metadata (2.0 kB)\n",
      "Requirement already satisfied: wheel<1.0,>=0.23.0 in c:\\users\\arvin\\anaconda3\\lib\\site-packages (from astunparse>=1.6.0->tensorflow-intel==2.15.0->tensorflow) (0.38.4)\n",
      "Requirement already satisfied: google-auth<3,>=1.6.3 in c:\\users\\arvin\\anaconda3\\lib\\site-packages (from tensorboard<2.16,>=2.15->tensorflow-intel==2.15.0->tensorflow) (2.27.0)\n",
      "Requirement already satisfied: google-auth-oauthlib<2,>=0.5 in c:\\users\\arvin\\anaconda3\\lib\\site-packages (from tensorboard<2.16,>=2.15->tensorflow-intel==2.15.0->tensorflow) (1.2.0)\n",
      "Requirement already satisfied: markdown>=2.6.8 in c:\\users\\arvin\\anaconda3\\lib\\site-packages (from tensorboard<2.16,>=2.15->tensorflow-intel==2.15.0->tensorflow) (3.4.1)\n",
      "Requirement already satisfied: requests<3,>=2.21.0 in c:\\users\\arvin\\anaconda3\\lib\\site-packages (from tensorboard<2.16,>=2.15->tensorflow-intel==2.15.0->tensorflow) (2.31.0)\n",
      "Requirement already satisfied: tensorboard-data-server<0.8.0,>=0.7.0 in c:\\users\\arvin\\anaconda3\\lib\\site-packages (from tensorboard<2.16,>=2.15->tensorflow-intel==2.15.0->tensorflow) (0.7.2)\n",
      "Requirement already satisfied: werkzeug>=1.0.1 in c:\\users\\arvin\\anaconda3\\lib\\site-packages (from tensorboard<2.16,>=2.15->tensorflow-intel==2.15.0->tensorflow) (2.2.3)\n",
      "Requirement already satisfied: cachetools<6.0,>=2.0.0 in c:\\users\\arvin\\anaconda3\\lib\\site-packages (from google-auth<3,>=1.6.3->tensorboard<2.16,>=2.15->tensorflow-intel==2.15.0->tensorflow) (5.3.2)\n",
      "Requirement already satisfied: pyasn1-modules>=0.2.1 in c:\\users\\arvin\\anaconda3\\lib\\site-packages (from google-auth<3,>=1.6.3->tensorboard<2.16,>=2.15->tensorflow-intel==2.15.0->tensorflow) (0.2.8)\n",
      "Requirement already satisfied: rsa<5,>=3.1.4 in c:\\users\\arvin\\anaconda3\\lib\\site-packages (from google-auth<3,>=1.6.3->tensorboard<2.16,>=2.15->tensorflow-intel==2.15.0->tensorflow) (4.9)\n",
      "Requirement already satisfied: requests-oauthlib>=0.7.0 in c:\\users\\arvin\\anaconda3\\lib\\site-packages (from google-auth-oauthlib<2,>=0.5->tensorboard<2.16,>=2.15->tensorflow-intel==2.15.0->tensorflow) (1.3.1)\n",
      "Requirement already satisfied: charset-normalizer<4,>=2 in c:\\users\\arvin\\anaconda3\\lib\\site-packages (from requests<3,>=2.21.0->tensorboard<2.16,>=2.15->tensorflow-intel==2.15.0->tensorflow) (2.0.4)\n",
      "Requirement already satisfied: idna<4,>=2.5 in c:\\users\\arvin\\anaconda3\\lib\\site-packages (from requests<3,>=2.21.0->tensorboard<2.16,>=2.15->tensorflow-intel==2.15.0->tensorflow) (3.4)\n",
      "Requirement already satisfied: urllib3<3,>=1.21.1 in c:\\users\\arvin\\anaconda3\\lib\\site-packages (from requests<3,>=2.21.0->tensorboard<2.16,>=2.15->tensorflow-intel==2.15.0->tensorflow) (1.26.16)\n",
      "Requirement already satisfied: certifi>=2017.4.17 in c:\\users\\arvin\\anaconda3\\lib\\site-packages (from requests<3,>=2.21.0->tensorboard<2.16,>=2.15->tensorflow-intel==2.15.0->tensorflow) (2023.7.22)\n",
      "Requirement already satisfied: MarkupSafe>=2.1.1 in c:\\users\\arvin\\anaconda3\\lib\\site-packages (from werkzeug>=1.0.1->tensorboard<2.16,>=2.15->tensorflow-intel==2.15.0->tensorflow) (2.1.1)\n",
      "Requirement already satisfied: pyasn1<0.5.0,>=0.4.6 in c:\\users\\arvin\\anaconda3\\lib\\site-packages (from pyasn1-modules>=0.2.1->google-auth<3,>=1.6.3->tensorboard<2.16,>=2.15->tensorflow-intel==2.15.0->tensorflow) (0.4.8)\n",
      "Requirement already satisfied: oauthlib>=3.0.0 in c:\\users\\arvin\\anaconda3\\lib\\site-packages (from requests-oauthlib>=0.7.0->google-auth-oauthlib<2,>=0.5->tensorboard<2.16,>=2.15->tensorflow-intel==2.15.0->tensorflow) (3.2.2)\n",
      "Downloading tensorflow_probability-0.23.0-py2.py3-none-any.whl (6.9 MB)\n",
      "   ---------------------------------------- 0.0/6.9 MB ? eta -:--:--\n",
      "   ---------------------------------------- 0.0/6.9 MB 991.0 kB/s eta 0:00:07\n",
      "    --------------------------------------- 0.1/6.9 MB 1.3 MB/s eta 0:00:06\n",
      "   - -------------------------------------- 0.3/6.9 MB 2.0 MB/s eta 0:00:04\n",
      "   -- ------------------------------------- 0.4/6.9 MB 2.0 MB/s eta 0:00:04\n",
      "   -- ------------------------------------- 0.5/6.9 MB 2.1 MB/s eta 0:00:04\n",
      "   --- ------------------------------------ 0.6/6.9 MB 2.3 MB/s eta 0:00:03\n",
      "   ---- ----------------------------------- 0.7/6.9 MB 2.3 MB/s eta 0:00:03\n",
      "   ---- ----------------------------------- 0.9/6.9 MB 2.3 MB/s eta 0:00:03\n",
      "   ----- ---------------------------------- 1.0/6.9 MB 2.3 MB/s eta 0:00:03\n",
      "   ----- ---------------------------------- 1.0/6.9 MB 2.3 MB/s eta 0:00:03\n",
      "   ------- -------------------------------- 1.3/6.9 MB 2.6 MB/s eta 0:00:03\n",
      "   -------- ------------------------------- 1.4/6.9 MB 2.7 MB/s eta 0:00:03\n",
      "   --------- ------------------------------ 1.7/6.9 MB 2.8 MB/s eta 0:00:02\n",
      "   ---------- ----------------------------- 1.8/6.9 MB 2.7 MB/s eta 0:00:02\n",
      "   ----------- ---------------------------- 1.9/6.9 MB 2.8 MB/s eta 0:00:02\n",
      "   ----------- ---------------------------- 2.1/6.9 MB 2.8 MB/s eta 0:00:02\n",
      "   ------------ --------------------------- 2.2/6.9 MB 2.8 MB/s eta 0:00:02\n",
      "   ------------- -------------------------- 2.3/6.9 MB 2.8 MB/s eta 0:00:02\n",
      "   -------------- ------------------------- 2.5/6.9 MB 2.8 MB/s eta 0:00:02\n",
      "   --------------- ------------------------ 2.6/6.9 MB 2.8 MB/s eta 0:00:02\n",
      "   --------------- ------------------------ 2.7/6.9 MB 2.8 MB/s eta 0:00:02\n",
      "   ----------------- ---------------------- 2.9/6.9 MB 2.9 MB/s eta 0:00:02\n",
      "   ----------------- ---------------------- 3.1/6.9 MB 2.8 MB/s eta 0:00:02\n",
      "   ------------------ --------------------- 3.2/6.9 MB 2.8 MB/s eta 0:00:02\n",
      "   ------------------- -------------------- 3.3/6.9 MB 2.8 MB/s eta 0:00:02\n",
      "   ------------------- -------------------- 3.4/6.9 MB 2.8 MB/s eta 0:00:02\n",
      "   -------------------- ------------------- 3.5/6.9 MB 2.8 MB/s eta 0:00:02\n",
      "   -------------------- ------------------- 3.6/6.9 MB 2.7 MB/s eta 0:00:02\n",
      "   --------------------- ------------------ 3.7/6.9 MB 2.7 MB/s eta 0:00:02\n",
      "   --------------------- ------------------ 3.8/6.9 MB 2.7 MB/s eta 0:00:02\n",
      "   ---------------------- ----------------- 3.8/6.9 MB 2.6 MB/s eta 0:00:02\n",
      "   ---------------------- ----------------- 3.9/6.9 MB 2.6 MB/s eta 0:00:02\n",
      "   ----------------------- ---------------- 4.0/6.9 MB 2.6 MB/s eta 0:00:02\n",
      "   ----------------------- ---------------- 4.1/6.9 MB 2.5 MB/s eta 0:00:02\n",
      "   ------------------------ --------------- 4.2/6.9 MB 2.5 MB/s eta 0:00:02\n",
      "   ------------------------ --------------- 4.3/6.9 MB 2.5 MB/s eta 0:00:02\n",
      "   ------------------------- -------------- 4.4/6.9 MB 2.5 MB/s eta 0:00:02\n",
      "   ------------------------- -------------- 4.5/6.9 MB 2.5 MB/s eta 0:00:01\n",
      "   -------------------------- ------------- 4.6/6.9 MB 2.5 MB/s eta 0:00:01\n",
      "   --------------------------- ------------ 4.7/6.9 MB 2.5 MB/s eta 0:00:01\n",
      "   --------------------------- ------------ 4.8/6.9 MB 2.5 MB/s eta 0:00:01\n",
      "   ---------------------------- ----------- 5.0/6.9 MB 2.5 MB/s eta 0:00:01\n",
      "   ----------------------------- ---------- 5.1/6.9 MB 2.5 MB/s eta 0:00:01\n",
      "   ------------------------------ --------- 5.2/6.9 MB 2.5 MB/s eta 0:00:01\n",
      "   ------------------------------- -------- 5.4/6.9 MB 2.5 MB/s eta 0:00:01\n",
      "   ------------------------------- -------- 5.4/6.9 MB 2.5 MB/s eta 0:00:01\n",
      "   -------------------------------- ------- 5.6/6.9 MB 2.5 MB/s eta 0:00:01\n",
      "   -------------------------------- ------- 5.7/6.9 MB 2.5 MB/s eta 0:00:01\n",
      "   --------------------------------- ------ 5.8/6.9 MB 2.5 MB/s eta 0:00:01\n",
      "   ---------------------------------- ----- 5.9/6.9 MB 2.5 MB/s eta 0:00:01\n",
      "   ----------------------------------- ---- 6.1/6.9 MB 2.5 MB/s eta 0:00:01\n",
      "   ------------------------------------ --- 6.2/6.9 MB 2.5 MB/s eta 0:00:01\n",
      "   ------------------------------------- -- 6.5/6.9 MB 2.6 MB/s eta 0:00:01\n",
      "   -------------------------------------- - 6.6/6.9 MB 2.6 MB/s eta 0:00:01\n",
      "   ---------------------------------------  6.8/6.9 MB 2.6 MB/s eta 0:00:01\n",
      "   ---------------------------------------  6.9/6.9 MB 2.6 MB/s eta 0:00:01\n",
      "   ---------------------------------------  6.9/6.9 MB 2.6 MB/s eta 0:00:01\n",
      "   ---------------------------------------- 6.9/6.9 MB 2.5 MB/s eta 0:00:00\n",
      "Downloading dm_tree-0.1.8-cp311-cp311-win_amd64.whl (101 kB)\n",
      "   ---------------------------------------- 0.0/101.3 kB ? eta -:--:--\n",
      "   ---------------------------------------- 101.3/101.3 kB 1.9 MB/s eta 0:00:00\n",
      "Installing collected packages: dm-tree, tensorflow_probability\n",
      "Successfully installed dm-tree-0.1.8 tensorflow_probability-0.23.0\n"
     ]
    }
   ],
   "source": [
    "!pip install tensorflow tensorflow_probability\n"
   ]
  },
  {
   "cell_type": "code",
   "execution_count": 1,
   "id": "9d5eb5a4",
   "metadata": {},
   "outputs": [
    {
     "name": "stdout",
     "output_type": "stream",
     "text": [
      "WARNING:tensorflow:From C:\\Users\\arvin\\anaconda3\\Lib\\site-packages\\keras\\src\\losses.py:2976: The name tf.losses.sparse_softmax_cross_entropy is deprecated. Please use tf.compat.v1.losses.sparse_softmax_cross_entropy instead.\n",
      "\n",
      "WARNING:tensorflow:From C:\\Users\\arvin\\anaconda3\\Lib\\site-packages\\tensorflow_probability\\python\\internal\\backend\\numpy\\_utils.py:48: The name tf.logging.TaskLevelStatusMessage is deprecated. Please use tf.compat.v1.logging.TaskLevelStatusMessage instead.\n",
      "\n",
      "WARNING:tensorflow:From C:\\Users\\arvin\\anaconda3\\Lib\\site-packages\\tensorflow_probability\\python\\internal\\backend\\numpy\\_utils.py:48: The name tf.control_flow_v2_enabled is deprecated. Please use tf.compat.v1.control_flow_v2_enabled instead.\n",
      "\n"
     ]
    }
   ],
   "source": [
    "import tensorflow as tf\n",
    "import tensorflow_probability as tfp"
   ]
  },
  {
   "cell_type": "code",
   "execution_count": 2,
   "id": "bc0b396f",
   "metadata": {},
   "outputs": [
    {
     "data": {
      "text/plain": [
       "<tf.Tensor: shape=(10, 1), dtype=float32, numpy=\n",
       "array([[1.],\n",
       "       [1.],\n",
       "       [1.],\n",
       "       [1.],\n",
       "       [0.],\n",
       "       [1.],\n",
       "       [1.],\n",
       "       [0.],\n",
       "       [1.],\n",
       "       [1.]], dtype=float32)>"
      ]
     },
     "execution_count": 2,
     "metadata": {},
     "output_type": "execute_result"
    }
   ],
   "source": [
    "prob = 0.7\n",
    "r = tfp.distributions.Bernoulli(probs=prob, dtype=tf.float32).sample(sample_shape=(10,1))\n",
    "r"
   ]
  },
  {
   "cell_type": "code",
   "execution_count": 3,
   "id": "61c75693",
   "metadata": {},
   "outputs": [
    {
     "data": {
      "text/plain": [
       "<tf.Tensor: shape=(10, 1), dtype=float32, numpy=\n",
       "array([[-0.27949375],\n",
       "       [ 1.2450783 ],\n",
       "       [ 1.3126452 ],\n",
       "       [ 0.3017487 ],\n",
       "       [ 0.6178259 ],\n",
       "       [-0.5525112 ],\n",
       "       [ 0.23103175],\n",
       "       [-2.3882408 ],\n",
       "       [ 1.0612408 ],\n",
       "       [-0.74793595]], dtype=float32)>"
      ]
     },
     "execution_count": 3,
     "metadata": {},
     "output_type": "execute_result"
    }
   ],
   "source": [
    "y_pred=tf.random.normal((10,1))\n",
    "y_pred"
   ]
  },
  {
   "cell_type": "code",
   "execution_count": 4,
   "id": "fa459e5e",
   "metadata": {},
   "outputs": [
    {
     "data": {
      "text/plain": [
       "<tf.Tensor: shape=(10, 1), dtype=float32, numpy=\n",
       "array([[-0.27949375],\n",
       "       [ 1.2450783 ],\n",
       "       [ 1.3126452 ],\n",
       "       [ 0.3017487 ],\n",
       "       [ 0.        ],\n",
       "       [-0.5525112 ],\n",
       "       [ 0.23103175],\n",
       "       [-0.        ],\n",
       "       [ 1.0612408 ],\n",
       "       [-0.74793595]], dtype=float32)>"
      ]
     },
     "execution_count": 4,
     "metadata": {},
     "output_type": "execute_result"
    }
   ],
   "source": [
    "tf.math.multiply(y_pred,r)"
   ]
  },
  {
   "cell_type": "markdown",
   "id": "7c07b33b",
   "metadata": {},
   "source": [
    "# Dropout Layer"
   ]
  },
  {
   "cell_type": "code",
   "execution_count": 7,
   "id": "e16d9198",
   "metadata": {},
   "outputs": [
    {
     "name": "stdout",
     "output_type": "stream",
     "text": [
      "WARNING:tensorflow:From C:\\Users\\arvin\\anaconda3\\Lib\\site-packages\\keras\\src\\backend.py:873: The name tf.get_default_graph is deprecated. Please use tf.compat.v1.get_default_graph instead.\n",
      "\n",
      "WARNING:tensorflow:From C:\\Users\\arvin\\anaconda3\\Lib\\site-packages\\keras\\src\\optimizers\\__init__.py:309: The name tf.train.Optimizer is deprecated. Please use tf.compat.v1.train.Optimizer instead.\n",
      "\n"
     ]
    }
   ],
   "source": [
    "model4=keras.models.Sequential([\n",
    "    keras.layers.Flatten(input_shape=[28,28]),\n",
    "    keras.layers.Dropout(rate=0.5),  # Rate 0.5-0.8\n",
    "    keras.layers.Dense(300, activation=\"elu\",kernel_initializer=\"he_normal\"),\n",
    "    keras.layers.Dropout(rate=0.5),\n",
    "    keras.layers.Dense(100, activation=\"elu\", kernel_initializer=\"he_normal\"),\n",
    "    keras.layers.Dropout(rate=0.5),\n",
    "    keras.layers.Dense(10,activation=\"softmax\")\n",
    "    \n",
    "])\n",
    "\n",
    "model4.compile(loss=\"sparse_categorical_crossentropy\", optimizer=\"nadam\", metrics=[\"accuracy\"])"
   ]
  },
  {
   "cell_type": "code",
   "execution_count": 8,
   "id": "3b7f16a9",
   "metadata": {},
   "outputs": [
    {
     "name": "stdout",
     "output_type": "stream",
     "text": [
      "Model: \"sequential\"\n",
      "_________________________________________________________________\n",
      " Layer (type)                Output Shape              Param #   \n",
      "=================================================================\n",
      " flatten (Flatten)           (None, 784)               0         \n",
      "                                                                 \n",
      " dropout (Dropout)           (None, 784)               0         \n",
      "                                                                 \n",
      " dense (Dense)               (None, 300)               235500    \n",
      "                                                                 \n",
      " dropout_1 (Dropout)         (None, 300)               0         \n",
      "                                                                 \n",
      " dense_1 (Dense)             (None, 100)               30100     \n",
      "                                                                 \n",
      " dropout_2 (Dropout)         (None, 100)               0         \n",
      "                                                                 \n",
      " dense_2 (Dense)             (None, 10)                1010      \n",
      "                                                                 \n",
      "=================================================================\n",
      "Total params: 266610 (1.02 MB)\n",
      "Trainable params: 266610 (1.02 MB)\n",
      "Non-trainable params: 0 (0.00 Byte)\n",
      "_________________________________________________________________\n"
     ]
    }
   ],
   "source": [
    "model4.summary()"
   ]
  },
  {
   "cell_type": "code",
   "execution_count": 9,
   "id": "c22abef9",
   "metadata": {},
   "outputs": [],
   "source": [
    "layer1=tf.keras.layers.Dropout(.3, input_shape=(1,))"
   ]
  },
  {
   "cell_type": "code",
   "execution_count": 10,
   "id": "24d07f75",
   "metadata": {},
   "outputs": [
    {
     "data": {
      "text/plain": [
       "<keras.src.layers.regularization.dropout.Dropout at 0x23d8cf33d10>"
      ]
     },
     "execution_count": 10,
     "metadata": {},
     "output_type": "execute_result"
    }
   ],
   "source": [
    "layer1"
   ]
  },
  {
   "cell_type": "code",
   "execution_count": 11,
   "id": "c67afa93",
   "metadata": {},
   "outputs": [
    {
     "data": {
      "text/plain": [
       "<tf.Tensor: shape=(10, 1), dtype=float32, numpy=\n",
       "array([[-0.7495111 ],\n",
       "       [ 1.014936  ],\n",
       "       [ 0.5414842 ],\n",
       "       [-1.8489008 ],\n",
       "       [-0.6228965 ],\n",
       "       [ 0.33343676],\n",
       "       [ 0.96102124],\n",
       "       [ 0.9606916 ],\n",
       "       [-0.9518918 ],\n",
       "       [-0.2807444 ]], dtype=float32)>"
      ]
     },
     "execution_count": 11,
     "metadata": {},
     "output_type": "execute_result"
    }
   ],
   "source": [
    "data= tf.random.normal((10,1))\n",
    "data"
   ]
  },
  {
   "cell_type": "code",
   "execution_count": 12,
   "id": "48b56b1e",
   "metadata": {},
   "outputs": [
    {
     "data": {
      "text/plain": [
       "<tf.Tensor: shape=(10, 1), dtype=float32, numpy=\n",
       "array([[-1.0707302 ],\n",
       "       [ 1.4499086 ],\n",
       "       [ 0.77354884],\n",
       "       [-2.6412868 ],\n",
       "       [-0.88985217],\n",
       "       [ 0.47633824],\n",
       "       [ 1.3728875 ],\n",
       "       [ 1.3724166 ],\n",
       "       [-1.3598454 ],\n",
       "       [-0.40106344]], dtype=float32)>"
      ]
     },
     "execution_count": 12,
     "metadata": {},
     "output_type": "execute_result"
    }
   ],
   "source": [
    "layer1(data, training=True)"
   ]
  },
  {
   "cell_type": "code",
   "execution_count": 14,
   "id": "c93cc633",
   "metadata": {},
   "outputs": [],
   "source": [
    "l= tf.keras.layers.Dropout(.1, input_shape=(1,))"
   ]
  },
  {
   "cell_type": "code",
   "execution_count": 15,
   "id": "ed737733",
   "metadata": {},
   "outputs": [
    {
     "data": {
      "text/plain": [
       "<tf.Tensor: shape=(10, 1), dtype=float32, numpy=\n",
       "array([[5.],\n",
       "       [5.],\n",
       "       [5.],\n",
       "       [5.],\n",
       "       [5.],\n",
       "       [5.],\n",
       "       [5.],\n",
       "       [5.],\n",
       "       [5.],\n",
       "       [5.]], dtype=float32)>"
      ]
     },
     "execution_count": 15,
     "metadata": {},
     "output_type": "execute_result"
    }
   ],
   "source": [
    "d=tf.ones((10,1))*5\n",
    "d"
   ]
  },
  {
   "cell_type": "code",
   "execution_count": 16,
   "id": "fff24899",
   "metadata": {},
   "outputs": [
    {
     "data": {
      "text/plain": [
       "<tf.Tensor: shape=(10, 1), dtype=float32, numpy=\n",
       "array([[5.555556],\n",
       "       [5.555556],\n",
       "       [5.555556],\n",
       "       [5.555556],\n",
       "       [5.555556],\n",
       "       [5.555556],\n",
       "       [5.555556],\n",
       "       [5.555556],\n",
       "       [5.555556],\n",
       "       [5.555556]], dtype=float32)>"
      ]
     },
     "execution_count": 16,
     "metadata": {},
     "output_type": "execute_result"
    }
   ],
   "source": [
    "l(d,training=True)"
   ]
  },
  {
   "cell_type": "code",
   "execution_count": 22,
   "id": "07d72f28",
   "metadata": {},
   "outputs": [
    {
     "data": {
      "text/plain": [
       "5.555555555555555"
      ]
     },
     "execution_count": 22,
     "metadata": {},
     "output_type": "execute_result"
    }
   ],
   "source": [
    "(1/(1-0.1))*5   #1/1-rate"
   ]
  },
  {
   "cell_type": "code",
   "execution_count": null,
   "id": "aead1f45",
   "metadata": {},
   "outputs": [],
   "source": []
  }
 ],
 "metadata": {
  "kernelspec": {
   "display_name": "Python 3 (ipykernel)",
   "language": "python",
   "name": "python3"
  },
  "language_info": {
   "codemirror_mode": {
    "name": "ipython",
    "version": 3
   },
   "file_extension": ".py",
   "mimetype": "text/x-python",
   "name": "python",
   "nbconvert_exporter": "python",
   "pygments_lexer": "ipython3",
   "version": "3.11.4"
  }
 },
 "nbformat": 4,
 "nbformat_minor": 5
}
