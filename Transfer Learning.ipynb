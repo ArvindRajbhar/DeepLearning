{
 "cells": [
  {
   "cell_type": "code",
   "execution_count": 57,
   "id": "2f58255e",
   "metadata": {},
   "outputs": [
    {
     "name": "stdout",
     "output_type": "stream",
     "text": [
      "The tensorboard extension is already loaded. To reload it, use:\n",
      "  %reload_ext tensorboard\n"
     ]
    }
   ],
   "source": [
    "import os\n",
    "import numpy as np\n",
    "import tensorflow as tf\n",
    "import matplotlib.pyplot as plt\n",
    "import seaborn as sns\n",
    "plt.style.use(\"fivethirtyeight\")\n",
    "%load_ext tensorboard\n"
   ]
  },
  {
   "cell_type": "code",
   "execution_count": 59,
   "id": "5bc9d8eb",
   "metadata": {},
   "outputs": [
    {
     "name": "stdout",
     "output_type": "stream",
     "text": [
      "[]\n"
     ]
    }
   ],
   "source": [
    "print(tf.config.list_physical_devices('GPU'))"
   ]
  },
  {
   "cell_type": "code",
   "execution_count": 58,
   "id": "67ebf946",
   "metadata": {},
   "outputs": [
    {
     "name": "stdout",
     "output_type": "stream",
     "text": [
      "Requirement already satisfied: keras in c:\\users\\arvin\\anaconda3\\lib\\site-packages (2.15.0)\n"
     ]
    }
   ],
   "source": [
    "!pip install keras"
   ]
  },
  {
   "cell_type": "code",
   "execution_count": 10,
   "id": "37cc5472",
   "metadata": {},
   "outputs": [],
   "source": [
    "(X_train_full,y_train_full),(X_test,y_test)= tf.keras.datasets.fashion_mnist.load_data()\n",
    "X_train_full= X_train_full/255.0\n",
    "X_test=X_test/255.0\n",
    "X_valid,X_train=X_train_full[:5000],X_train_full[5000:]\n",
    "y_valid,y_train=y_train_full[:5000],y_train_full[5000:]"
   ]
  },
  {
   "cell_type": "code",
   "execution_count": 11,
   "id": "89b8cad0",
   "metadata": {},
   "outputs": [],
   "source": [
    "tf.random.set_seed(42)\n",
    "np.random.seed(42)\n",
    "\n",
    "LAYERS=[tf.keras.layers.Flatten(input_shape=[28,28]),\n",
    "       tf.keras.layers.Dense(300, kernel_initializer=\"he_normal\"),\n",
    "       tf.keras.layers.LeakyReLU(),\n",
    "       tf.keras.layers.Dense(100, kernel_initializer=\"he_normal\"),\n",
    "       tf.keras.layers.LeakyReLU(),\n",
    "       tf.keras.layers.Dense(10,activation=\"softmax\")]\n",
    "\n",
    "model=tf.keras.models.Sequential(LAYERS)"
   ]
  },
  {
   "cell_type": "code",
   "execution_count": 12,
   "id": "3281c299",
   "metadata": {},
   "outputs": [],
   "source": [
    "model.compile(loss=\"sparse_categorical_crossentropy\",\n",
    "             optimizer= tf.keras.optimizers.SGD(learning_rate=1e-3),\n",
    "             metrics=[\"accuracy\"])"
   ]
  },
  {
   "cell_type": "code",
   "execution_count": 13,
   "id": "042f2279",
   "metadata": {},
   "outputs": [
    {
     "name": "stdout",
     "output_type": "stream",
     "text": [
      "Model: \"sequential_1\"\n",
      "_________________________________________________________________\n",
      " Layer (type)                Output Shape              Param #   \n",
      "=================================================================\n",
      " flatten_1 (Flatten)         (None, 784)               0         \n",
      "                                                                 \n",
      " dense_3 (Dense)             (None, 300)               235500    \n",
      "                                                                 \n",
      " leaky_re_lu_2 (LeakyReLU)   (None, 300)               0         \n",
      "                                                                 \n",
      " dense_4 (Dense)             (None, 100)               30100     \n",
      "                                                                 \n",
      " leaky_re_lu_3 (LeakyReLU)   (None, 100)               0         \n",
      "                                                                 \n",
      " dense_5 (Dense)             (None, 10)                1010      \n",
      "                                                                 \n",
      "=================================================================\n",
      "Total params: 266610 (1.02 MB)\n",
      "Trainable params: 266610 (1.02 MB)\n",
      "Non-trainable params: 0 (0.00 Byte)\n",
      "_________________________________________________________________\n"
     ]
    }
   ],
   "source": [
    "model.summary()"
   ]
  },
  {
   "cell_type": "code",
   "execution_count": 17,
   "id": "85023cde",
   "metadata": {},
   "outputs": [
    {
     "name": "stdout",
     "output_type": "stream",
     "text": [
      "Epoch 1/10\n",
      "1719/1719 - 6s - loss: 0.4870 - accuracy: 0.8339 - val_loss: 0.4772 - val_accuracy: 0.8414 - 6s/epoch - 3ms/step\n",
      "Epoch 2/10\n",
      "1719/1719 - 5s - loss: 0.4789 - accuracy: 0.8358 - val_loss: 0.4695 - val_accuracy: 0.8436 - 5s/epoch - 3ms/step\n",
      "Epoch 3/10\n",
      "1719/1719 - 7s - loss: 0.4716 - accuracy: 0.8372 - val_loss: 0.4725 - val_accuracy: 0.8378 - 7s/epoch - 4ms/step\n",
      "Epoch 4/10\n",
      "1719/1719 - 7s - loss: 0.4654 - accuracy: 0.8397 - val_loss: 0.4602 - val_accuracy: 0.8470 - 7s/epoch - 4ms/step\n",
      "Epoch 5/10\n",
      "1719/1719 - 7s - loss: 0.4600 - accuracy: 0.8417 - val_loss: 0.4530 - val_accuracy: 0.8490 - 7s/epoch - 4ms/step\n",
      "Epoch 6/10\n",
      "1719/1719 - 7s - loss: 0.4546 - accuracy: 0.8435 - val_loss: 0.4488 - val_accuracy: 0.8498 - 7s/epoch - 4ms/step\n",
      "Epoch 7/10\n",
      "1719/1719 - 8s - loss: 0.4498 - accuracy: 0.8448 - val_loss: 0.4439 - val_accuracy: 0.8538 - 8s/epoch - 4ms/step\n",
      "Epoch 8/10\n",
      "1719/1719 - 6s - loss: 0.4456 - accuracy: 0.8464 - val_loss: 0.4474 - val_accuracy: 0.8488 - 6s/epoch - 4ms/step\n",
      "Epoch 9/10\n",
      "1719/1719 - 7s - loss: 0.4419 - accuracy: 0.8470 - val_loss: 0.4375 - val_accuracy: 0.8530 - 7s/epoch - 4ms/step\n",
      "Epoch 10/10\n",
      "1719/1719 - 8s - loss: 0.4378 - accuracy: 0.8488 - val_loss: 0.4366 - val_accuracy: 0.8538 - 8s/epoch - 5ms/step\n"
     ]
    }
   ],
   "source": [
    "history=model.fit(X_train,y_train, epochs=10,\n",
    "                 validation_data=(X_valid,y_valid),verbose=2)"
   ]
  },
  {
   "cell_type": "code",
   "execution_count": 18,
   "id": "34b23c4f",
   "metadata": {},
   "outputs": [
    {
     "name": "stderr",
     "output_type": "stream",
     "text": [
      "C:\\Users\\arvin\\anaconda3\\Lib\\site-packages\\keras\\src\\engine\\training.py:3103: UserWarning: You are saving your model as an HDF5 file via `model.save()`. This file format is considered legacy. We recommend using instead the native Keras format, e.g. `model.save('my_model.keras')`.\n",
      "  saving_api.save_model(\n"
     ]
    }
   ],
   "source": [
    "model.save(\"pretrained_mnist_model.h5\")"
   ]
  },
  {
   "cell_type": "markdown",
   "id": "e93e5e87",
   "metadata": {},
   "source": [
    "#  Transfer learning\n",
    "\n",
    "# New Problem Statement\n",
    "\n",
    "Classify handwritten didgits into odd and even"
   ]
  },
  {
   "cell_type": "code",
   "execution_count": 19,
   "id": "02d61de4",
   "metadata": {},
   "outputs": [],
   "source": [
    "pretrained_mnist_model= tf.keras.models.load_model(\"pretrained_mnist_model.h5\")"
   ]
  },
  {
   "cell_type": "code",
   "execution_count": 20,
   "id": "ed2ead86",
   "metadata": {},
   "outputs": [
    {
     "name": "stdout",
     "output_type": "stream",
     "text": [
      "Model: \"sequential_1\"\n",
      "_________________________________________________________________\n",
      " Layer (type)                Output Shape              Param #   \n",
      "=================================================================\n",
      " flatten_1 (Flatten)         (None, 784)               0         \n",
      "                                                                 \n",
      " dense_3 (Dense)             (None, 300)               235500    \n",
      "                                                                 \n",
      " leaky_re_lu_2 (LeakyReLU)   (None, 300)               0         \n",
      "                                                                 \n",
      " dense_4 (Dense)             (None, 100)               30100     \n",
      "                                                                 \n",
      " leaky_re_lu_3 (LeakyReLU)   (None, 100)               0         \n",
      "                                                                 \n",
      " dense_5 (Dense)             (None, 10)                1010      \n",
      "                                                                 \n",
      "=================================================================\n",
      "Total params: 266610 (1.02 MB)\n",
      "Trainable params: 266610 (1.02 MB)\n",
      "Non-trainable params: 0 (0.00 Byte)\n",
      "_________________________________________________________________\n"
     ]
    }
   ],
   "source": [
    "pretrained_mnist_model.summary()"
   ]
  },
  {
   "cell_type": "code",
   "execution_count": 23,
   "id": "4e00bef6",
   "metadata": {},
   "outputs": [
    {
     "name": "stdout",
     "output_type": "stream",
     "text": [
      "flatten_1:True\n",
      "dense_3:True\n",
      "leaky_re_lu_2:True\n",
      "dense_4:True\n",
      "leaky_re_lu_3:True\n",
      "dense_5:True\n"
     ]
    }
   ],
   "source": [
    "for layer in pretrained_mnist_model.layers:\n",
    "    print(f\"{layer.name}:{layer.trainable}\")"
   ]
  },
  {
   "cell_type": "raw",
   "id": "9957e529",
   "metadata": {},
   "source": [
    "Previous model knows how to identify between 0-9\n",
    "We don't want to make all trainable. Will only train the last layer"
   ]
  },
  {
   "cell_type": "code",
   "execution_count": 24,
   "id": "49aa2f54",
   "metadata": {},
   "outputs": [
    {
     "name": "stdout",
     "output_type": "stream",
     "text": [
      "flatten_1:False\n",
      "dense_3:False\n",
      "leaky_re_lu_2:False\n",
      "dense_4:False\n",
      "leaky_re_lu_3:False\n"
     ]
    }
   ],
   "source": [
    "for layer in pretrained_mnist_model.layers[:-1]:  # Leaves the last layer unfreezed  that means last layer is trainable\n",
    "    layer.trainable= False # process is called Freezing the layer getting trained\n",
    "    print(f\"{layer.name}:{layer.trainable}\")"
   ]
  },
  {
   "cell_type": "code",
   "execution_count": 25,
   "id": "44d49f88",
   "metadata": {},
   "outputs": [
    {
     "name": "stdout",
     "output_type": "stream",
     "text": [
      "flatten_1:False\n",
      "dense_3:False\n",
      "leaky_re_lu_2:False\n",
      "dense_4:False\n",
      "leaky_re_lu_3:False\n",
      "dense_5:True\n"
     ]
    }
   ],
   "source": [
    "for layer in pretrained_mnist_model.layers:\n",
    "    print(f\"{layer.name}:{layer.trainable}\")"
   ]
  },
  {
   "cell_type": "raw",
   "id": "6f4f9c22",
   "metadata": {},
   "source": [
    "Last layer have 10 outcome. it can classify between 0-9\n",
    "but we want to classify between odd and even means only 2 outcome"
   ]
  },
  {
   "cell_type": "code",
   "execution_count": 27,
   "id": "7236bd3a",
   "metadata": {},
   "outputs": [],
   "source": [
    "lower_pretrained_layers = pretrained_mnist_model.layers[:-1]\n",
    "'''LAYERS_TL=[\n",
    "    lower_pretrained_layers,\n",
    "    tf.keras.layers.Dense(2,activation=\"softmax\")    \n",
    "]\n",
    "'''\n",
    "new_model= tf.keras.models.Sequential(lower_pretrained_layers)\n",
    "new_model.add(\n",
    "    tf.keras.layers.Dense(2,activation=\"softmax\") \n",
    ")"
   ]
  },
  {
   "cell_type": "code",
   "execution_count": 28,
   "id": "a2d9cc7d",
   "metadata": {},
   "outputs": [
    {
     "name": "stdout",
     "output_type": "stream",
     "text": [
      "Model: \"sequential_3\"\n",
      "_________________________________________________________________\n",
      " Layer (type)                Output Shape              Param #   \n",
      "=================================================================\n",
      " flatten_1 (Flatten)         (None, 784)               0         \n",
      "                                                                 \n",
      " dense_3 (Dense)             (None, 300)               235500    \n",
      "                                                                 \n",
      " leaky_re_lu_2 (LeakyReLU)   (None, 300)               0         \n",
      "                                                                 \n",
      " dense_4 (Dense)             (None, 100)               30100     \n",
      "                                                                 \n",
      " leaky_re_lu_3 (LeakyReLU)   (None, 100)               0         \n",
      "                                                                 \n",
      " dense_7 (Dense)             (None, 2)                 202       \n",
      "                                                                 \n",
      "=================================================================\n",
      "Total params: 265802 (1.01 MB)\n",
      "Trainable params: 202 (808.00 Byte)\n",
      "Non-trainable params: 265600 (1.01 MB)\n",
      "_________________________________________________________________\n"
     ]
    }
   ],
   "source": [
    "new_model.summary()"
   ]
  },
  {
   "cell_type": "code",
   "execution_count": 32,
   "id": "63dbc084",
   "metadata": {},
   "outputs": [
    {
     "data": {
      "text/plain": [
       "202"
      ]
     },
     "execution_count": 32,
     "metadata": {},
     "output_type": "execute_result"
    }
   ],
   "source": [
    "100 * 2 + 2 # trainable parameter"
   ]
  },
  {
   "cell_type": "code",
   "execution_count": 33,
   "id": "dae570b8",
   "metadata": {},
   "outputs": [
    {
     "data": {
      "text/plain": [
       "265600"
      ]
     },
     "execution_count": 33,
     "metadata": {},
     "output_type": "execute_result"
    }
   ],
   "source": [
    "266610-1010 # Non trainable parameter"
   ]
  },
  {
   "cell_type": "code",
   "execution_count": 34,
   "id": "0d0aa75a",
   "metadata": {},
   "outputs": [
    {
     "data": {
      "text/plain": [
       "265802"
      ]
     },
     "execution_count": 34,
     "metadata": {},
     "output_type": "execute_result"
    }
   ],
   "source": [
    "265600 + 202  #Total Parameter"
   ]
  },
  {
   "cell_type": "code",
   "execution_count": 35,
   "id": "4c78b3d2",
   "metadata": {},
   "outputs": [
    {
     "data": {
      "text/plain": [
       "array([0, 1, 2, 3, 4, 5, 6, 7, 8, 9], dtype=uint8)"
      ]
     },
     "execution_count": 35,
     "metadata": {},
     "output_type": "execute_result"
    }
   ],
   "source": [
    "np.unique(y_train)"
   ]
  },
  {
   "cell_type": "raw",
   "id": "8f17f468",
   "metadata": {},
   "source": [
    "want to check odd & even \n",
    "do the mod operation by 2 if value comes 1 then its odd and if it's 0 then its even"
   ]
  },
  {
   "cell_type": "code",
   "execution_count": 36,
   "id": "fa6d3f40",
   "metadata": {},
   "outputs": [
    {
     "data": {
      "text/plain": [
       "1"
      ]
     },
     "execution_count": 36,
     "metadata": {},
     "output_type": "execute_result"
    }
   ],
   "source": [
    "9%2 "
   ]
  },
  {
   "cell_type": "code",
   "execution_count": 37,
   "id": "8f389072",
   "metadata": {},
   "outputs": [
    {
     "data": {
      "text/plain": [
       "0"
      ]
     },
     "execution_count": 37,
     "metadata": {},
     "output_type": "execute_result"
    }
   ],
   "source": [
    "6%2"
   ]
  },
  {
   "cell_type": "raw",
   "id": "9f07e5a1",
   "metadata": {},
   "source": [
    "update the train data"
   ]
  },
  {
   "cell_type": "code",
   "execution_count": 38,
   "id": "0678f0fd",
   "metadata": {},
   "outputs": [
    {
     "data": {
      "text/plain": [
       "array([1, 1, 0, ..., 0, 1, 0])"
      ]
     },
     "execution_count": 38,
     "metadata": {},
     "output_type": "execute_result"
    }
   ],
   "source": [
    "np.where(y_train%2==0, 1,0)"
   ]
  },
  {
   "cell_type": "code",
   "execution_count": 41,
   "id": "0b6c60dd",
   "metadata": {},
   "outputs": [
    {
     "data": {
      "text/plain": [
       "(4, 5)"
      ]
     },
     "execution_count": 41,
     "metadata": {},
     "output_type": "execute_result"
    }
   ],
   "source": [
    "y_train[0], y_train[-1]"
   ]
  },
  {
   "cell_type": "code",
   "execution_count": 42,
   "id": "9d1f45c4",
   "metadata": {},
   "outputs": [],
   "source": [
    "def update_even_odd_labels(labels):\n",
    "    for idx,label in enumerate(labels):\n",
    "        labels[idx] = np.where(label % 2 ==0 , 1, 0)\n",
    "    return labels"
   ]
  },
  {
   "cell_type": "code",
   "execution_count": 48,
   "id": "a4610bf3",
   "metadata": {},
   "outputs": [],
   "source": [
    "y_train_binary, y_test_binary, y_valid_binary = update_even_odd_labels([y_train,y_test, y_valid])"
   ]
  },
  {
   "cell_type": "code",
   "execution_count": 49,
   "id": "82a79f34",
   "metadata": {},
   "outputs": [
    {
     "data": {
      "text/plain": [
       "array([0, 1])"
      ]
     },
     "execution_count": 49,
     "metadata": {},
     "output_type": "execute_result"
    }
   ],
   "source": [
    "np.unique(y_train_binary)"
   ]
  },
  {
   "cell_type": "code",
   "execution_count": 50,
   "id": "7210397f",
   "metadata": {},
   "outputs": [],
   "source": [
    "new_model.compile(loss=\"sparse_categorical_crossentropy\",\n",
    "             optimizer= tf.keras.optimizers.SGD(learning_rate=1e-3),\n",
    "             metrics=[\"accuracy\"])"
   ]
  },
  {
   "cell_type": "code",
   "execution_count": 51,
   "id": "8bde2747",
   "metadata": {},
   "outputs": [
    {
     "name": "stdout",
     "output_type": "stream",
     "text": [
      "Epoch 1/10\n",
      "1719/1719 - 8s - loss: 0.2328 - accuracy: 0.9197 - val_loss: 0.1587 - val_accuracy: 0.9506 - 8s/epoch - 4ms/step\n",
      "Epoch 2/10\n",
      "1719/1719 - 7s - loss: 0.1481 - accuracy: 0.9510 - val_loss: 0.1411 - val_accuracy: 0.9546 - 7s/epoch - 4ms/step\n",
      "Epoch 3/10\n",
      "1719/1719 - 8s - loss: 0.1365 - accuracy: 0.9545 - val_loss: 0.1341 - val_accuracy: 0.9562 - 8s/epoch - 4ms/step\n",
      "Epoch 4/10\n",
      "1719/1719 - 6s - loss: 0.1308 - accuracy: 0.9558 - val_loss: 0.1303 - val_accuracy: 0.9570 - 6s/epoch - 4ms/step\n",
      "Epoch 5/10\n",
      "1719/1719 - 7s - loss: 0.1274 - accuracy: 0.9567 - val_loss: 0.1276 - val_accuracy: 0.9582 - 7s/epoch - 4ms/step\n",
      "Epoch 6/10\n",
      "1719/1719 - 7s - loss: 0.1249 - accuracy: 0.9573 - val_loss: 0.1255 - val_accuracy: 0.9596 - 7s/epoch - 4ms/step\n",
      "Epoch 7/10\n",
      "1719/1719 - 5s - loss: 0.1229 - accuracy: 0.9577 - val_loss: 0.1240 - val_accuracy: 0.9600 - 5s/epoch - 3ms/step\n",
      "Epoch 8/10\n",
      "1719/1719 - 6s - loss: 0.1216 - accuracy: 0.9583 - val_loss: 0.1229 - val_accuracy: 0.9596 - 6s/epoch - 4ms/step\n",
      "Epoch 9/10\n",
      "1719/1719 - 3s - loss: 0.1204 - accuracy: 0.9586 - val_loss: 0.1220 - val_accuracy: 0.9600 - 3s/epoch - 2ms/step\n",
      "Epoch 10/10\n",
      "1719/1719 - 6s - loss: 0.1194 - accuracy: 0.9588 - val_loss: 0.1211 - val_accuracy: 0.9598 - 6s/epoch - 3ms/step\n"
     ]
    }
   ],
   "source": [
    "history=new_model.fit(X_train,y_train_binary, epochs=10,\n",
    "                 validation_data=(X_valid,y_valid_binary),verbose=2)"
   ]
  },
  {
   "cell_type": "code",
   "execution_count": 52,
   "id": "6641c5f3",
   "metadata": {},
   "outputs": [
    {
     "name": "stdout",
     "output_type": "stream",
     "text": [
      "313/313 [==============================] - 1s 2ms/step - loss: 0.1299 - accuracy: 0.9577\n"
     ]
    },
    {
     "data": {
      "text/plain": [
       "[0.12986969947814941, 0.9577000141143799]"
      ]
     },
     "execution_count": 52,
     "metadata": {},
     "output_type": "execute_result"
    }
   ],
   "source": [
    "new_model.evaluate(X_test, y_test_binary)"
   ]
  },
  {
   "cell_type": "code",
   "execution_count": 53,
   "id": "bee863c7",
   "metadata": {},
   "outputs": [
    {
     "data": {
      "text/plain": [
       "(array([9, 2, 1], dtype=uint8), array([0, 1, 0]))"
      ]
     },
     "execution_count": 53,
     "metadata": {},
     "output_type": "execute_result"
    }
   ],
   "source": [
    "X_new =X_test[:3]\n",
    "y_test[:3], y_test_binary[:3]"
   ]
  },
  {
   "cell_type": "code",
   "execution_count": 54,
   "id": "a415108b",
   "metadata": {},
   "outputs": [
    {
     "name": "stdout",
     "output_type": "stream",
     "text": [
      "1/1 [==============================] - 0s 113ms/step\n"
     ]
    },
    {
     "data": {
      "text/plain": [
       "array([0, 1, 0], dtype=int64)"
      ]
     },
     "execution_count": 54,
     "metadata": {},
     "output_type": "execute_result"
    }
   ],
   "source": [
    "np.argmax(new_model.predict(X_new),axis=-1)"
   ]
  },
  {
   "cell_type": "code",
   "execution_count": null,
   "id": "c8583d7f",
   "metadata": {},
   "outputs": [],
   "source": []
  }
 ],
 "metadata": {
  "kernelspec": {
   "display_name": "Python 3 (ipykernel)",
   "language": "python",
   "name": "python3"
  },
  "language_info": {
   "codemirror_mode": {
    "name": "ipython",
    "version": 3
   },
   "file_extension": ".py",
   "mimetype": "text/x-python",
   "name": "python",
   "nbconvert_exporter": "python",
   "pygments_lexer": "ipython3",
   "version": "3.11.4"
  }
 },
 "nbformat": 4,
 "nbformat_minor": 5
}
